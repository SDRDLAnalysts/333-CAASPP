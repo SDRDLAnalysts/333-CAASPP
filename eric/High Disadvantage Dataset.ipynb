{
 "cells": [
  {
   "cell_type": "markdown",
   "metadata": {},
   "source": [
    "#2015 CAASPP test results\n",
    "\n",
    "This notebook produces a CSV file that  compares the % MSA of San Diego county schools that have high disadvantage ( > 60% ) to the % of students that are disadvantaged. \n",
    "\n",
    "* [Source Website](http://caaspp.cde.ca.gov/sb2015/ResearchFileList)\n",
    "* [Data Dictionary](http://caaspp.cde.ca.gov/sb2015/research_fixfileformat)\n",
    "\n",
    "The county code for San Diego is 37.\n",
    "\n",
    "The most important measurement values are: \n",
    "* pct_msa. The percentage of a subgroup that tested at or above the \"Meets Standards\" level. MSA = \"Meet Standards or Above\"\n",
    "* mss. Mean Scale Score. The average test score for the subgroup. \n",
    "\n",
    "The geo_decomp() call seperates out the counties, schools and districts and limits the data to one grade. \n",
    "\n",
    "The first input cell restricts the data to the English Language Arts test. \n"
   ]
  },
  {
   "cell_type": "code",
   "execution_count": 103,
   "metadata": {
    "collapsed": true
   },
   "outputs": [],
   "source": [
    "%matplotlib inline\n",
    "import numpy as np\n",
    "import matplotlib as mpl\n",
    "import pandas as pd\n",
    "df = pd.read_csv('../ca2015_all_csv_v1.txt', na_values='*'  )\n",
    "\n",
    "# Entities. The school, district and county names. \n",
    "ent = pd.read_csv('../ca2015entities_csv.txt')\n",
    "\n",
    "# Here is where we specify which test. 1 is the English / Language Arts test. \n",
    "#df = df[df['Test Id'] == 1]\n",
    "\n",
    "# Create an identifier that combines the three codes. This ID is typical in other education files, \n",
    "# buyt oddly lacking from this one. \n",
    "def f(x):\n",
    "    return \"{:02d}{:05d}{:07d}\".format(x['County Code'],x['District Code'],x['School Code'])\n",
    "   \n",
    "df['cds'] = df.apply(f, axis=1)\n",
    "ent['cds'] = ent.apply(f, axis=1)\n",
    "ent.set_index('cds',inplace = True) # index on cds so we can easily merge. \n",
    "\n",
    "county_names = ent['County Name']\n",
    "school_names = ent['School Name']\n",
    "district_names = ent[['District Name', 'County Name']]\n",
    "\n",
    "# Friendly names of the subgroups. \n",
    "subgroups = pd.read_csv('../Subgroups.txt', header=None, names = ['subgroup_id','subgroup_name','category'],\n",
    "                       index_col = 0)\n",
    "subgroups['title'] = subgroups.apply(lambda row: row['category']+\"; \"+row['subgroup_name'], axis=1)\n",
    "subgroup_names = subgroups.to_dict()['title']\n",
    "\n",
    "# Calculate the percentage of students in the school, county or district who are members of the subgroup\n",
    "df['pct_subgroup'] = df['Total Tested At Subgroup Level'] / df['Total Tested At Entity Level']"
   ]
  },
  {
   "cell_type": "code",
   "execution_count": 112,
   "metadata": {
    "collapsed": true
   },
   "outputs": [],
   "source": [
    "def col_subset(df):\n",
    "    dfs = df[['cds', 'County Code', 'Subgroup ID', 'pct_subgroup', 'Grade', 'Test Id', 'Mean Scale Score', \n",
    "             'Percentage Standard Met and Above']]\n",
    "    dfs.columns = [u'cds', 'county',  u'subgroup', u'pct_subgroup', u'grade', 'test', u'mss', u'pct_msa']\n",
    "    return dfs\n"
   ]
  },
  {
   "cell_type": "code",
   "execution_count": 117,
   "metadata": {
    "collapsed": false
   },
   "outputs": [],
   "source": [
    "schools = col_subset(df[df['School Code'] != 0])\n",
    "schools = schools[(schools.county == 37) & (schools.subgroup == 31)]\n",
    "school_names = ent[['School Name','District Name', 'County Name']]\n",
    "ed_rate = schools[(schools.subgroup == 31)][['cds', 'pct_subgroup']].copy()\n",
    "ed_rate.columns = ['cds', 'pct_ec_disadvantaged']\n",
    "ed_rate.pct_ec_disadvantaged = np.round(ed_rate.pct_ec_disadvantaged *100,0)\n",
    "ed_rate = ed_rate.groupby('cds').max()"
   ]
  },
  {
   "cell_type": "code",
   "execution_count": 122,
   "metadata": {
    "collapsed": false,
    "scrolled": false
   },
   "outputs": [],
   "source": [
    "high_ed_x = schools[(schools.county==37) & (schools.subgroup == 31)].set_index('cds').join(school_names)\\\n",
    ".sort('pct_msa', ascending = False).join(ed_rate)\n",
    "\n",
    "high_ed = high_ed_x[high_ed_x.pct_ec_disadvantaged > 60].sort('pct_msa', ascending = False).dropna()"
   ]
  },
  {
   "cell_type": "code",
   "execution_count": 125,
   "metadata": {
    "collapsed": true
   },
   "outputs": [],
   "source": [
    "high_ed.to_csv('high_ed.csv')"
   ]
  }
 ],
 "metadata": {
  "kernelspec": {
   "display_name": "Python 2",
   "language": "python",
   "name": "python2"
  },
  "language_info": {
   "codemirror_mode": {
    "name": "ipython",
    "version": 2
   },
   "file_extension": ".py",
   "mimetype": "text/x-python",
   "name": "python",
   "nbconvert_exporter": "python",
   "pygments_lexer": "ipython2",
   "version": "2.7.9"
  }
 },
 "nbformat": 4,
 "nbformat_minor": 0
}
